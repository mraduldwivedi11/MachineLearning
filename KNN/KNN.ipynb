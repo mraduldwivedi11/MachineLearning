{
 "cells": [
  {
   "cell_type": "code",
   "execution_count": 1,
   "metadata": {},
   "outputs": [],
   "source": [
    "from sklearn import datasets\n",
    "from sklearn.model_selection import train_test_split\n",
    "from sklearn.neighbors import KNeighborsClassifier\n",
    "from sklearn.metrics import accuracy_score\n",
    "from collections import Counter"
   ]
  },
  {
   "cell_type": "code",
   "execution_count": 7,
   "metadata": {},
   "outputs": [],
   "source": [
    "dataset= datasets.load_breast_cancer()"
   ]
  },
  {
   "cell_type": "code",
   "execution_count": 8,
   "metadata": {},
   "outputs": [],
   "source": [
    "from pprint import pprint\n",
    "xtrain,xtest,ytrain,ytest=train_test_split(dataset.data,dataset.target,test_size=0.2,random_state=0)"
   ]
  },
  {
   "cell_type": "code",
   "execution_count": 5,
   "metadata": {},
   "outputs": [],
   "source": [
    "clf=KNeighborsClassifier(n_neighbors=7)"
   ]
  },
  {
   "cell_type": "code",
   "execution_count": 6,
   "metadata": {},
   "outputs": [
    {
     "data": {
      "text/plain": [
       "KNeighborsClassifier(algorithm='auto', leaf_size=30, metric='minkowski',\n",
       "           metric_params=None, n_jobs=1, n_neighbors=7, p=2,\n",
       "           weights='uniform')"
      ]
     },
     "execution_count": 6,
     "metadata": {},
     "output_type": "execute_result"
    }
   ],
   "source": [
    "clf.fit(xtrain,ytrain)"
   ]
  },
  {
   "cell_type": "code",
   "execution_count": 7,
   "metadata": {},
   "outputs": [
    {
     "data": {
      "text/plain": [
       "0.9473684210526315"
      ]
     },
     "execution_count": 7,
     "metadata": {},
     "output_type": "execute_result"
    }
   ],
   "source": [
    "clf.score(xtest,ytest)"
   ]
  },
  {
   "cell_type": "code",
   "execution_count": 12,
   "metadata": {},
   "outputs": [],
   "source": [
    "def train(x_train,y_train):  # isme train ka to kuch h ni all we have to do at testing time check its given neighbours\n",
    "    return\n",
    "\n",
    "\n",
    "\n",
    "\n",
    "def predict_one(x_train,y_train,x_test,k):          # predict one function me xtrain , ytrain or xtest ki ek row and k \n",
    "    distances=[]                                    #jite neighbour h wo aaya , ab us point se sare train point ki dist. \n",
    "    for i in range(len(x_train)):                   #nikalni h to distance a=list bnayi ab xtrain ki wo row and sare col\n",
    "        distance=((x_train[i,:]-x_test)**2).sum()   #ko us xtest se divide kr k sqr kr k sum nikala us distance and us \n",
    "        # euclidian distance\n",
    "        distances.append([distance,i])              # point ko append kra point(i ) is lie store kiya becz aage uki\n",
    "    distances=sorted(distances)                     # class b find krni h. aise append k baad sort kr liya means km dist\n",
    "    target=[]                                       #nearest point aage a jaye\n",
    "    for i in range(k):                              # ab top k(jo pass kiya h) ka ek target list bnayi jine unki class\n",
    "        index_of_element=distances[i][1]            # #aayegi unki majority hi us row ki class ho jayegi\n",
    " ## yha distance ek list ki list h , bta rha                \n",
    "# ka 1th value hi uska index hoga ki first list     \n",
    "    target.append(y_train[index_of_element])    \n",
    "    return Counter(target).most_common(1)[0][0]     # counter gives list of tuples mtlb elemnet and their occurences\n",
    "                                                    # so most common 1 tell ki most occur ki list first 0 tells ki us \n",
    "                                                    # list ka first tuple and second 0 tells ki us tuple ka 0th element\n",
    "\n",
    "\n",
    "def predict(x_train,y_train,x_test_data,k):         ## sbse phle predict function bnaya jisme xtest row wise ek ek \n",
    "    predict=[]                                       # kr k bhej diya  predict list bna li jisme ek ek row ki class\n",
    "    for x_test in x_test_data:                       # store kr lenge\n",
    "        predict.append(predict_one(x_train,y_train,x_test,k))\n",
    "    return predict"
   ]
  },
  {
   "cell_type": "code",
   "execution_count": 13,
   "metadata": {},
   "outputs": [],
   "source": [
    "y_pred= predict(xtrain,ytrain,xtest,7)"
   ]
  },
  {
   "cell_type": "code",
   "execution_count": 16,
   "metadata": {},
   "outputs": [
    {
     "data": {
      "text/plain": [
       "0.9473684210526315"
      ]
     },
     "execution_count": 16,
     "metadata": {},
     "output_type": "execute_result"
    }
   ],
   "source": [
    "accuracy_score(y_pred,ytest)"
   ]
  },
  {
   "cell_type": "code",
   "execution_count": 17,
   "metadata": {},
   "outputs": [
    {
     "name": "stdout",
     "output_type": "stream",
     "text": [
      "[(1, 3)]\n"
     ]
    }
   ],
   "source": [
    "a=[1,1,1,0,0]\n",
    "print(Counter(a).most_common(1))"
   ]
  }
 ],
 "metadata": {
  "kernelspec": {
   "display_name": "Python 3",
   "language": "python",
   "name": "python3"
  },
  "language_info": {
   "codemirror_mode": {
    "name": "ipython",
    "version": 3
   },
   "file_extension": ".py",
   "mimetype": "text/x-python",
   "name": "python",
   "nbconvert_exporter": "python",
   "pygments_lexer": "ipython3",
   "version": "3.6.5"
  }
 },
 "nbformat": 4,
 "nbformat_minor": 2
}

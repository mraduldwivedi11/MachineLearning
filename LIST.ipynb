{
 "cells": [
  {
   "cell_type": "code",
   "execution_count": 18,
   "metadata": {},
   "outputs": [
    {
     "name": "stdout",
     "output_type": "stream",
     "text": [
      "[1, 3, 4]\n",
      "True\n",
      "False\n",
      "[0, 0, 0, 0, 0, 0, 0, 0, 0, 0]\n",
      "[0, 1, 2, 3, 4, 5, 6, 7, 8, 9]\n"
     ]
    }
   ],
   "source": [
    "## ccreating a list\n",
    "a=[1,3,4]\n",
    "\n",
    "b=list()\n",
    "\n",
    "b=list([4,5,6])\n",
    "c=list(a)\n",
    "print(c)\n",
    "\n",
    "d=[1,3,4]\n",
    "print(d==a) #value checking so both same\n",
    "print(d is a) #address checking\n",
    "\n",
    "##by using range\n",
    "p=[0 for i in range(10)]\n",
    "print(p)\n",
    "q=[i for i in range(10)]\n",
    "print(q)\n",
    "\n",
    "ao=[1,2,\"ghi\",True]"
   ]
  },
  {
   "cell_type": "code",
   "execution_count": 22,
   "metadata": {},
   "outputs": [
    {
     "name": "stdout",
     "output_type": "stream",
     "text": [
      "3\n",
      "2\n",
      "[1, 2]\n",
      "3\n"
     ]
    }
   ],
   "source": [
    "##data accessing\n",
    "a=[1,2,3]\n",
    "print(a[-1])\n",
    "print(a[1])\n",
    "print(a[0:2])\n",
    "print(len(a)) ##for length of a"
   ]
  },
  {
   "cell_type": "code",
   "execution_count": 44,
   "metadata": {},
   "outputs": [
    {
     "name": "stdout",
     "output_type": "stream",
     "text": [
      "['3', '4', '56']\n",
      "[3, 4, 56]\n",
      "  45 25 63 \n",
      "[45, 25, 63]\n"
     ]
    }
   ],
   "source": [
    "##input of list\n",
    "inp=\"1 3 4 5 8 90\"\n",
    "split_string=inp.split(\" \")\n",
    "split_string\n",
    "\n",
    "a=\" 3 4 56 \"   ## here we have space at strt and end so on split we get empty so we should first strip this string\n",
    "a1=a.strip()\n",
    "split_string=a1.split(\" \")\n",
    "print(split_string)  ## but here we got string in list we have to convert them in list\n",
    "for i in range(0,len(split_string)):\n",
    "    split_string[i]=int(split_string[i])\n",
    "print(split_string)\n",
    "\n",
    "# # so for list input we have to do 3 step\n",
    "# 1 input the strip it the split it over space then type cast every str into string\n",
    "\n",
    "# one line taking array input\n",
    "list=[int(i) for i in input().strip().split(\" \")]\n",
    "print(list)"
   ]
  },
  {
   "cell_type": "code",
   "execution_count": 10,
   "metadata": {},
   "outputs": [
    {
     "name": "stdout",
     "output_type": "stream",
     "text": [
      "[14]\n",
      "[14, 23, 89, 27]\n"
     ]
    }
   ],
   "source": [
    "# adding list element\n",
    "\n",
    "lst=[1,3,35,65]\n",
    "lst.append(14) \n",
    "print(lst)  #appens always add in last\n",
    "lst.insert(1,23)  # it enters in 1st place or given index and shift elements right after that index\n",
    "lst.insert(85,27) # it always need 2 argument but if we gave index out of bound it adds at last\n",
    "lst.insert(-1,89)  #####################################see it\n",
    "print(lst)\n",
    "\n",
    "lst2=[10,45,80]\n",
    "lst2.extend(lst)  #add lst in lst2"
   ]
  },
  {
   "cell_type": "code",
   "execution_count": 89,
   "metadata": {},
   "outputs": [
    {
     "name": "stdout",
     "output_type": "stream",
     "text": [
      "[1, 56, 2, 12, 3, 2, 2, 3]\n",
      "[1, 56, 2, 12, 3, 2, 2]\n",
      "[1, 56, 12, 3, 2, 2]\n",
      "[1, 56, 12, 3, 2]\n",
      "[1, 12, 3, 2]\n",
      "[3, 2]\n"
     ]
    }
   ],
   "source": [
    "###removing elements\n",
    "lst=[1,56,2,12,3,2,2,3]\n",
    "print(lst)\n",
    "\n",
    "\n",
    "lst.pop()   # if we dont give ibdex it remove from last   ## and it returns too\n",
    "#if we provide index it removes by that index\n",
    "print(lst)\n",
    "\n",
    "\n",
    "lst.pop(2)  # remove at that index\n",
    "print(lst)\n",
    "\n",
    "lst.remove(2)  ## it remove that element if there is more than one occurance than it removes first\n",
    "print(lst)\n",
    "\n",
    "\n",
    "del lst[1]  ## elemnet at index 1 is deleted\n",
    "print(lst)\n",
    "\n",
    "del lst[0:2] # remove that range\n",
    "print(lst) "
   ]
  },
  {
   "cell_type": "code",
   "execution_count": 95,
   "metadata": {},
   "outputs": [
    {
     "data": {
      "text/plain": [
       "[3, 5, 6, 3, 5, 6]"
      ]
     },
     "execution_count": 95,
     "metadata": {},
     "output_type": "execute_result"
    }
   ],
   "source": [
    "lst=[3,5,6]\n",
    "# lst+1    it give error we cant add lst with integer\n",
    "\n",
    "lst*2   # mutiply it so copied list two times but it cant changes the original list\n"
   ]
  },
  {
   "cell_type": "code",
   "execution_count": 101,
   "metadata": {},
   "outputs": [
    {
     "name": "stdout",
     "output_type": "stream",
     "text": [
      "[1, 1, 1, 2, 2, 3, 4, 5, 6, 8, 15, 56, 78]\n",
      "3\n",
      "[78, 56, 15, 8, 6, 5, 4, 3, 2, 2, 1, 1, 1]\n",
      "78\n",
      "1\n",
      "True\n"
     ]
    }
   ],
   "source": [
    "###some list functions\n",
    "\n",
    "lst=[15,2,6,1,1,8,4,3,2,1,5,56,78]\n",
    "lst.sort()\n",
    "print(lst)\n",
    "\n",
    "print(lst.count(1))\n",
    "\n",
    "lst.reverse()\n",
    "print(lst)\n",
    "print(max(lst))\n",
    "print(min(lst))\n",
    "print(78 in lst)"
   ]
  },
  {
   "cell_type": "code",
   "execution_count": 110,
   "metadata": {},
   "outputs": [
    {
     "name": "stdout",
     "output_type": "stream",
     "text": [
      "3\n",
      "4 5 88\n",
      "4 5 88 "
     ]
    }
   ],
   "source": [
    "##selection sort\n",
    "n=int(input())\n",
    "lst =[int (x) for x in input().strip().split(\" \")]\n",
    "for i in range(0,n):\n",
    "    min =lst[i]\n",
    "    p=i\n",
    "    for j in range(i+1,n):\n",
    "        if min>lst[j]:\n",
    "            min=lst[j]\n",
    "            p=j\n",
    "    lst[p]=lst[i]\n",
    "    lst[i]=min\n",
    "for i in lst:\n",
    "    print(i ,end=\" \")"
   ]
  },
  {
   "cell_type": "code",
   "execution_count": 116,
   "metadata": {},
   "outputs": [
    {
     "name": "stdout",
     "output_type": "stream",
     "text": [
      "3\n",
      "1 2 4\n"
     ]
    }
   ],
   "source": [
    "## array equilibrium index O(n*n)\n",
    "n=int(input())\n",
    "lst =[int (x) for x in input().strip().split(\" \")]\n",
    "index=False\n",
    "for i in range(1,n):\n",
    "    if sum(lst[0:i]) == sum(lst[i+1:n]):\n",
    "        index=True\n",
    "        break\n",
    "if index:\n",
    "    print(i)\n",
    "else:\n",
    "    print(-1)\n",
    "\n",
    "\n",
    "\n"
   ]
  },
  {
   "cell_type": "code",
   "execution_count": 118,
   "metadata": {},
   "outputs": [
    {
     "name": "stdout",
     "output_type": "stream",
     "text": [
      "7\n",
      "-7 1 5 2 -4 3 0\n",
      "3\n"
     ]
    }
   ],
   "source": [
    "## array equilibrium index 0(n)\n",
    "n=int(input())\n",
    "lst =[int (x) for x in input().strip().split(\" \")]\n",
    "leftsum=0\n",
    "rightsum=sum(lst)\n",
    "index=False\n",
    "for i in range(0,n):\n",
    "    rightsum-=lst[i]\n",
    "    if rightsum==leftsum:\n",
    "        index=True\n",
    "        break;\n",
    "    leftsum+=lst[i]\n",
    "if index:\n",
    "    print(i)\n",
    "else:\n",
    "    print(-1)\n",
    "    "
   ]
  },
  {
   "cell_type": "code",
   "execution_count": 5,
   "metadata": {},
   "outputs": [
    {
     "name": "stdout",
     "output_type": "stream",
     "text": [
      "5\n",
      "13 17 5 4 6\n",
      "[13, 17, 5, 4, 6]\n",
      "False True False False True [17, 6]\n"
     ]
    }
   ],
   "source": [
    "# Leaders in array \n",
    "n=int(input())\n",
    "lst =[int (x) for x in input().strip().split(\" \")]\n",
    "print(lst)\n",
    "lst2=[]\n",
    "for i in range(0,n):\n",
    "    leader = True\n",
    "    for j in range(i+1,n):\n",
    "        if lst[i]<lst[j]:\n",
    "            leader=False\n",
    "            break\n",
    "    print(leader,end=\" \")\n",
    "    if leader:\n",
    "        lst2.append(lst[i]) \n",
    "print(lst2)      "
   ]
  },
  {
   "cell_type": "code",
   "execution_count": 3,
   "metadata": {},
   "outputs": [
    {
     "name": "stdout",
     "output_type": "stream",
     "text": [
      "5\n",
      "13 17 5 4 6\n",
      "[17, 6]\n"
     ]
    }
   ],
   "source": [
    "# Leaders in array \n",
    "n=int(input())\n",
    "lst =[int (x) for x in input().strip().split(\" \")]\n",
    "leader=True\n",
    "lst2=[]\n",
    "for i in range(0,n):\n",
    "    p=lst[i]\n",
    "    lst2.append(lst[i])\n",
    "    for j in range(i+1,n):\n",
    "        if lst[i]<lst[j]:\n",
    "            leader=False\n",
    "            lst2.pop()\n",
    "            break\n",
    "print(lst2)      "
   ]
  },
  {
   "cell_type": "code",
   "execution_count": 24,
   "metadata": {},
   "outputs": [
    {
     "name": "stdout",
     "output_type": "stream",
     "text": [
      "welcome to coding\n",
      "coding to welcome "
     ]
    }
   ],
   "source": [
    "#reverse string words\n",
    "inp=input().split(\" \")\n",
    "inp=inp[::-1]\n",
    "for i in inp:\n",
    "    print(i ,end=\" \")\n"
   ]
  },
  {
   "cell_type": "code",
   "execution_count": 4,
   "metadata": {},
   "outputs": [
    {
     "name": "stdout",
     "output_type": "stream",
     "text": [
      "6\n",
      "1 5 10 15 20 25\n",
      "5\n",
      "2 4 5 9 15\n",
      "81\n"
     ]
    }
   ],
   "source": [
    "#maximimze the size\n",
    "n1=int(input())\n",
    "lst1 =[int (x) for x in input().strip().split(\" \")]\n",
    "n2=int(input())\n",
    "lst2 =[int (x) for x in input().strip().split(\" \")]\n",
    "max_sum=0\n",
    "sum1=0\n",
    "sum2=0\n",
    "i=0\n",
    "j=0\n",
    "while (i<n1 and j <n2):\n",
    "    if(lst1[i]<lst2[j]):\n",
    "        sum1+=lst1[i]\n",
    "        i+=1\n",
    "    elif(lst1[i]>lst2[j]):\n",
    "        sum2+=lst2[j]\n",
    "        j+=1\n",
    "    else:\n",
    "        sum1+=lst1[i]\n",
    "        sum2+=lst2[j]\n",
    "        i+=1\n",
    "        j+=1\n",
    "        max_sum+=max(sum1,sum2)\n",
    "        sum1=0\n",
    "        sum2=0\n",
    "while (i < n1):\n",
    "    sum1+=lst1[i]\n",
    "    i+=1\n",
    "while (j < n2):\n",
    "    sum2+=lst2[j]\n",
    "    j+=1\n",
    "max_sum+=max(sum1,sum2)\n",
    "print(max_sum)"
   ]
  },
  {
   "cell_type": "code",
   "execution_count": 1,
   "metadata": {},
   "outputs": [
    {
     "name": "stdout",
     "output_type": "stream",
     "text": [
      "abcdefb\n",
      "abcdef\n"
     ]
    }
   ],
   "source": [
    "#largest substring\n",
    "x=input()\n",
    "max_index=0\n",
    "max_len=0\n",
    "\n",
    "for i in range(0,len(x)):\n",
    "    count=1\n",
    "    for j in range(i+1,len(x)):\n",
    "            if(x[j] in x[i:j]):\n",
    "                    break\n",
    "            else:\n",
    "                count+=1\n",
    "    if(max_len<count):\n",
    "        max_len=count\n",
    "        max_index=i\n",
    "print(x[max_index:max_index+max_len])\n",
    "        "
   ]
  },
  {
   "cell_type": "code",
   "execution_count": 7,
   "metadata": {},
   "outputs": [
    {
     "data": {
      "text/plain": [
       "False"
      ]
     },
     "execution_count": 7,
     "metadata": {},
     "output_type": "execute_result"
    }
   ],
   "source": []
  }
 ],
 "metadata": {
  "kernelspec": {
   "display_name": "Python 3",
   "language": "python",
   "name": "python3"
  },
  "language_info": {
   "codemirror_mode": {
    "name": "ipython",
    "version": 3
   },
   "file_extension": ".py",
   "mimetype": "text/x-python",
   "name": "python",
   "nbconvert_exporter": "python",
   "pygments_lexer": "ipython3",
   "version": "3.6.5"
  }
 },
 "nbformat": 4,
 "nbformat_minor": 2
}

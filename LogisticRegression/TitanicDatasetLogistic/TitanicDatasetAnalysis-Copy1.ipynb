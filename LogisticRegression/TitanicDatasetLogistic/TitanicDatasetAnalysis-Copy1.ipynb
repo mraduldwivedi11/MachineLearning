{
 "cells": [
  {
   "cell_type": "code",
   "execution_count": 1,
   "metadata": {},
   "outputs": [],
   "source": [
    "\n",
    "import numpy as np\n",
    "import pandas as pd"
   ]
  },
  {
   "cell_type": "code",
   "execution_count": 2,
   "metadata": {},
   "outputs": [],
   "source": [
    "titanic_train= pd.read_csv(r\"G:\\CodingNinzas\\ML_AT_CN\\LogisticRegression\\TitanicDatasetLogistic\\training_titanic.csv\")\n",
    "titanic_test= pd.read_csv(r\"G:\\CodingNinzas\\ML_AT_CN\\LogisticRegression\\TitanicDatasetLogistic\\test_titanic.csv\")"
   ]
  },
  {
   "cell_type": "code",
   "execution_count": 3,
   "metadata": {},
   "outputs": [
    {
     "name": "stdout",
     "output_type": "stream",
     "text": [
      "   Pclass                                            Name     Sex   Age  \\\n",
      "0       2   Weisz, Mrs. Leopold (Mathilde Francoise Pede)  female  29.0   \n",
      "1       3               Williams, Mr. Howard Hugh \"Harry\"    male   NaN   \n",
      "2       2  Morley, Mr. Henry Samuel (\"Mr Henry Marshall\")    male  39.0   \n",
      "3       3     Palsson, Mrs. Nils (Alma Cornelia Berglund)  female  29.0   \n",
      "4       3                          Sutehall, Mr. Henry Jr    male  25.0   \n",
      "\n",
      "   SibSp  Parch           Ticket    Fare Cabin Embarked  Survived  \n",
      "0      1      0           228414  26.000   NaN        S         1  \n",
      "1      0      0         A/5 2466   8.050   NaN        S         0  \n",
      "2      0      0           250655  26.000   NaN        S         0  \n",
      "3      0      4           349909  21.075   NaN        S         0  \n",
      "4      0      0  SOTON/OQ 392076   7.050   NaN        S         0  \n"
     ]
    },
    {
     "data": {
      "text/plain": [
       "(668, 11)"
      ]
     },
     "execution_count": 3,
     "metadata": {},
     "output_type": "execute_result"
    }
   ],
   "source": [
    "print(titanic_train.head(5))\n",
    "titanic_train.shape"
   ]
  },
  {
   "cell_type": "code",
   "execution_count": 35,
   "metadata": {},
   "outputs": [],
   "source": [
    "#  survivedS = titanic_train[titanic_train.Embarked == 'Q'][titanic_train.Survived == 1].shape[0]\n",
    "#  survivedS"
   ]
  },
  {
   "cell_type": "code",
   "execution_count": 36,
   "metadata": {},
   "outputs": [],
   "source": [
    "del titanic_train[\"Name\"]\n",
    "del titanic_train[\"Ticket\"]\n",
    "del titanic_train[\"Fare\"]\n",
    "del titanic_train[\"Cabin\"]"
   ]
  },
  {
   "cell_type": "code",
   "execution_count": 37,
   "metadata": {},
   "outputs": [],
   "source": [
    "del titanic_test[\"Name\"]\n",
    "del titanic_test[\"Ticket\"]\n",
    "del titanic_test[\"Fare\"]\n",
    "del titanic_test[\"Cabin\"]"
   ]
  },
  {
   "cell_type": "code",
   "execution_count": 38,
   "metadata": {},
   "outputs": [
    {
     "name": "stdout",
     "output_type": "stream",
     "text": [
      "   Pclass     Sex   Age  SibSp  Parch Embarked  Survived\n",
      "0       2  female  29.0      1      0        S         1\n",
      "1       3    male   NaN      0      0        S         0\n",
      "2       2    male  39.0      0      0        S         0\n",
      "3       3  female  29.0      0      4        S         0\n",
      "4       3    male  25.0      0      0        S         0\n"
     ]
    },
    {
     "data": {
      "text/plain": [
       "Pclass       0\n",
       "Sex          0\n",
       "Age         45\n",
       "SibSp        0\n",
       "Parch        0\n",
       "Embarked     1\n",
       "dtype: int64"
      ]
     },
     "execution_count": 38,
     "metadata": {},
     "output_type": "execute_result"
    }
   ],
   "source": [
    "print(titanic_train.head(5))\n",
    "titanic_test.isnull().sum()"
   ]
  },
  {
   "cell_type": "code",
   "execution_count": 39,
   "metadata": {},
   "outputs": [],
   "source": [
    "def fun1(s):\n",
    "    if s==\"female\":\n",
    "        return 0\n",
    "    else:\n",
    "        return 1\n",
    "    \n",
    "titanic_train[\"new_sex\"]=titanic_train.Sex.apply(fun1)\n",
    "\n",
    "titanic_test[\"new_sex\"]=titanic_test.Sex.apply(fun1)\n",
    "\n",
    "del titanic_test[\"Sex\"]\n",
    "del titanic_train[\"Sex\"]"
   ]
  },
  {
   "cell_type": "code",
   "execution_count": 40,
   "metadata": {},
   "outputs": [],
   "source": [
    "trainmeanS= titanic_train[titanic_train.Survived==1].Age.mean()\n",
    "#testmeanS = titanic_test[titanic_test.Survived==1].Age.mean()"
   ]
  },
  {
   "cell_type": "code",
   "execution_count": 41,
   "metadata": {},
   "outputs": [],
   "source": [
    "def fun(s):\n",
    "    if s==\"S\":\n",
    "        return 0\n",
    "    elif s==\"C\":\n",
    "        return 1\n",
    "    else:\n",
    "        return 2\n",
    "titanic_train[\"Embarked_new\"]=titanic_train.Embarked.apply(fun)\n",
    "titanic_test[\"Embarked_new\"]=titanic_test.Embarked.apply(fun)\n",
    "\n",
    "del titanic_test[\"Embarked\"]\n",
    "del titanic_train[\"Embarked\"]"
   ]
  },
  {
   "cell_type": "code",
   "execution_count": 42,
   "metadata": {},
   "outputs": [],
   "source": [
    "titanic_train[\"age\"]=np.where(pd.isnull(titanic_train.Age) & titanic_train[\"Survived\"]==1  ,trainmeanS, titanic_train[\"Age\"])\n",
    "del titanic_train[\"Age\"]\n",
    "\n",
    "\n",
    "titanic_test.Age.fillna(titanic_test.Age.mean(), inplace = True)"
   ]
  },
  {
   "cell_type": "code",
   "execution_count": 43,
   "metadata": {},
   "outputs": [],
   "source": [
    "titanic_train.dropna(inplace=True)\n",
    "titanic_test.dropna(inplace=True)"
   ]
  },
  {
   "cell_type": "code",
   "execution_count": null,
   "metadata": {},
   "outputs": [],
   "source": [
    "#  another way of filing age nan\n",
    "\n",
    "# titanic_data.loc[titanic_data.Survived==1] = titanic_data.fillna(mean_age_of_survived)\n",
    "# titanic_data.loc[titanic_data.Survived==0] = titanic_data.fillna(mean_age_of_non_survived)"
   ]
  },
  {
   "cell_type": "code",
   "execution_count": 44,
   "metadata": {},
   "outputs": [],
   "source": [
    "titanic_test[\"age\"]=titanic_test[\"Age\"]\n",
    "del titanic_test[\"Age\"]"
   ]
  },
  {
   "cell_type": "code",
   "execution_count": 45,
   "metadata": {},
   "outputs": [],
   "source": [
    "# titanic_train[\"Sibsb_sex\"]=titanic_train[\"SibSp\"]*titanic_train[\"new_sex\"]\n",
    "# titanic_test[\"Sibsb_sex\"]=titanic_test[\"SibSp\"]*titanic_test[\"new_sex\"]\n",
    "\n",
    "# titanic_train[\"PClass_Parch\"]=titanic_train[\"Pclass\"]*titanic_train[\"Parch\"]\n",
    "# titanic_test[\"PClass_Parch\"]=titanic_test[\"Pclass\"]*titanic_test[\"Parch\"]\n",
    "\n",
    "\n",
    "        \n"
   ]
  },
  {
   "cell_type": "code",
   "execution_count": 46,
   "metadata": {},
   "outputs": [],
   "source": [
    "# def fun(s):\n",
    "#     return s\n",
    "\n",
    "# titanic_train[\"output\"]= titanic_train.Survived.apply(fun)\n",
    "\n",
    "# del titanic_train[\"Survived\"]\n",
    "\n",
    "df_survive=titanic_train[\"Survived\"]\n",
    "del titanic_train[\"Survived\"]"
   ]
  },
  {
   "cell_type": "code",
   "execution_count": 47,
   "metadata": {},
   "outputs": [],
   "source": [
    "a = len(titanic_train.columns)\n",
    "for i in range(a):\n",
    "    for j in range (i,a):\n",
    "        col1= titanic_train.columns[i]\n",
    "        col2=titanic_train.columns[j]\n",
    "        titanic_train[col1+col2]=titanic_train[col1]*titanic_train[col2]\n",
    "        \n",
    "b = len(titanic_test.columns)\n",
    "for i in range(b):\n",
    "    for j in range (i,b):\n",
    "        col1= titanic_test.columns[i]\n",
    "        col2=titanic_test.columns[j]\n",
    "        titanic_test[col1+col2]=titanic_test[col1]*titanic_test[col2]"
   ]
  },
  {
   "cell_type": "code",
   "execution_count": 48,
   "metadata": {},
   "outputs": [
    {
     "name": "stdout",
     "output_type": "stream",
     "text": [
      "   Pclass  SibSp  Parch  new_sex  Embarked_new   age  PclassPclass  \\\n",
      "0       2      1      0        0             0  29.0             4   \n",
      "2       2      0      0        1             0  39.0             4   \n",
      "3       3      0      4        0             0  29.0             9   \n",
      "\n",
      "   PclassSibSp  PclassParch  Pclassnew_sex   ...    ParchParch  Parchnew_sex  \\\n",
      "0            2            0              0   ...             0             0   \n",
      "2            0            0              2   ...             0             0   \n",
      "3            0           12              0   ...            16             0   \n",
      "\n",
      "   ParchEmbarked_new  Parchage  new_sexnew_sex  new_sexEmbarked_new  \\\n",
      "0                  0       0.0               0                    0   \n",
      "2                  0       0.0               1                    0   \n",
      "3                  0     116.0               0                    0   \n",
      "\n",
      "   new_sexage  Embarked_newEmbarked_new  Embarked_newage  ageage  \n",
      "0         0.0                         0              0.0   841.0  \n",
      "2        39.0                         0              0.0  1521.0  \n",
      "3         0.0                         0              0.0   841.0  \n",
      "\n",
      "[3 rows x 27 columns]\n",
      "   Pclass  SibSp  Parch  new_sex  Embarked_new        age  PclassPclass  \\\n",
      "0       2      1      1        1             0   8.000000             4   \n",
      "1       1      0      0        0             0  49.000000             1   \n",
      "2       3      0      0        1             2  29.694775             9   \n",
      "\n",
      "   PclassSibSp  PclassParch  Pclassnew_sex     ...       ParchParch  \\\n",
      "0            2            2              2     ...                1   \n",
      "1            0            0              0     ...                0   \n",
      "2            0            0              3     ...                0   \n",
      "\n",
      "   Parchnew_sex  ParchEmbarked_new  Parchage  new_sexnew_sex  \\\n",
      "0             1                  0       8.0               1   \n",
      "1             0                  0       0.0               0   \n",
      "2             0                  0       0.0               1   \n",
      "\n",
      "   new_sexEmbarked_new  new_sexage  Embarked_newEmbarked_new  Embarked_newage  \\\n",
      "0                    0    8.000000                         0         0.000000   \n",
      "1                    0    0.000000                         0         0.000000   \n",
      "2                    2   29.694775                         4        59.389551   \n",
      "\n",
      "        ageage  \n",
      "0    64.000000  \n",
      "1  2401.000000  \n",
      "2   881.779679  \n",
      "\n",
      "[3 rows x 27 columns]\n"
     ]
    }
   ],
   "source": [
    "print(titanic_train.head(3))\n",
    "print(titanic_test.head(3))\n"
   ]
  },
  {
   "cell_type": "code",
   "execution_count": 49,
   "metadata": {},
   "outputs": [],
   "source": [
    "x=titanic_train.values\n",
    "y=df_survive.values\n",
    "test=titanic_test.values"
   ]
  },
  {
   "cell_type": "code",
   "execution_count": 50,
   "metadata": {},
   "outputs": [],
   "source": [
    "# x=train[:,0:8]\n",
    "# y=train[:,8]"
   ]
  },
  {
   "cell_type": "code",
   "execution_count": 51,
   "metadata": {},
   "outputs": [],
   "source": [
    "from sklearn import preprocessing\n",
    "scaler =preprocessing.StandardScaler()"
   ]
  },
  {
   "cell_type": "code",
   "execution_count": 52,
   "metadata": {},
   "outputs": [],
   "source": [
    "scaler.fit(x)\n",
    "x_train=scaler.transform(x)\n",
    "\n",
    "x_test=scaler.transform(test)\n",
    "\n"
   ]
  },
  {
   "cell_type": "code",
   "execution_count": 53,
   "metadata": {},
   "outputs": [],
   "source": [
    "from sklearn.linear_model import LogisticRegression"
   ]
  },
  {
   "cell_type": "code",
   "execution_count": 54,
   "metadata": {},
   "outputs": [],
   "source": [
    "clf=LogisticRegression(C=1, multi_class='ovr', solver='lbfgs')"
   ]
  },
  {
   "cell_type": "code",
   "execution_count": 55,
   "metadata": {},
   "outputs": [
    {
     "data": {
      "text/plain": [
       "LogisticRegression(C=1, class_weight=None, dual=False, fit_intercept=True,\n",
       "          intercept_scaling=1, max_iter=100, multi_class='ovr', n_jobs=1,\n",
       "          penalty='l2', random_state=None, solver='lbfgs', tol=0.0001,\n",
       "          verbose=0, warm_start=False)"
      ]
     },
     "execution_count": 55,
     "metadata": {},
     "output_type": "execute_result"
    }
   ],
   "source": [
    "clf.fit(x_train,y)\n"
   ]
  },
  {
   "cell_type": "code",
   "execution_count": 56,
   "metadata": {},
   "outputs": [
    {
     "data": {
      "text/plain": [
       "0.7989601386481803"
      ]
     },
     "execution_count": 56,
     "metadata": {},
     "output_type": "execute_result"
    }
   ],
   "source": [
    "clf.predict(x_train)-y\n",
    "# clf.score(clf.predict(x_train),y)\n",
    "\n",
    "clf.score(x_train,y)"
   ]
  },
  {
   "cell_type": "code",
   "execution_count": 57,
   "metadata": {},
   "outputs": [],
   "source": [
    "predictFile=clf.predict(x_test)"
   ]
  },
  {
   "cell_type": "code",
   "execution_count": 58,
   "metadata": {},
   "outputs": [],
   "source": [
    "np.savetxt(\"predictions1.csv\",predictFile,delimiter=\",\", fmt='%1d')\n"
   ]
  },
  {
   "cell_type": "code",
   "execution_count": null,
   "metadata": {},
   "outputs": [],
   "source": []
  }
 ],
 "metadata": {
  "kernelspec": {
   "display_name": "Python 3",
   "language": "python",
   "name": "python3"
  },
  "language_info": {
   "codemirror_mode": {
    "name": "ipython",
    "version": 3
   },
   "file_extension": ".py",
   "mimetype": "text/x-python",
   "name": "python",
   "nbconvert_exporter": "python",
   "pygments_lexer": "ipython3",
   "version": "3.6.5"
  }
 },
 "nbformat": 4,
 "nbformat_minor": 2
}

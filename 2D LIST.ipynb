{
 "cells": [
  {
   "cell_type": "code",
   "execution_count": 9,
   "metadata": {},
   "outputs": [
    {
     "name": "stdout",
     "output_type": "stream",
     "text": [
      "[[1, 2, 3], [4, 5, 6]]\n",
      "[[0, 1, 2], [1, 2, 3], [2, 3, 4], [3, 4, 5], [4, 5, 6], [5, 6, 7]]\n",
      "[[0, 1, 2, 3, 4], [5, 6, 7, 8, 9], [10, 11, 12, 13, 14], [15, 16, 17, 18, 19], [20, 21, 22, 23, 24]]\n"
     ]
    }
   ],
   "source": [
    "#create 2d array\n",
    "d=[[1,2,3],[4,5,6]]\n",
    "print(d)\n",
    "\n",
    "d2=[[i,i+1,i+2] for i in range(6)]\n",
    "print(d2)\n",
    "\n",
    "d3=[ [ (5*i+j) for j in range(5)] for i in range(5)]\n",
    "print(d3)"
   ]
  },
  {
   "cell_type": "code",
   "execution_count": 17,
   "metadata": {
    "scrolled": true
   },
   "outputs": [
    {
     "name": "stdout",
     "output_type": "stream",
     "text": [
      "2 3\n",
      "52 12 63 15 4 2\n",
      "[[52, 12, 63], [15, 4, 2]]\n",
      "[[52, 12, 63], [15, 4, 2]]\n"
     ]
    }
   ],
   "source": [
    "#input of 2d array\n",
    "str=input().strip().split(\" \")\n",
    "n=int(str[0])\n",
    "m=int(str[1])\n",
    "# print(n,m)\n",
    "\n",
    "l=[int(i) for i in input().strip().split(\" \")]\n",
    "\n",
    "out=[]\n",
    "for i in range(n):\n",
    "    out.append([])\n",
    "    for j in range(m):\n",
    "        out[i].append(l[m*i + j])\n",
    "        \n",
    "print(out)\n",
    "\n",
    "\n",
    "###################### 2d input in single line\n",
    "\n",
    "output= [ [l[i*m + j] for j in range(m)] for i in range(n)]\n",
    "print(output)"
   ]
  },
  {
   "cell_type": "code",
   "execution_count": 8,
   "metadata": {},
   "outputs": [
    {
     "name": "stdout",
     "output_type": "stream",
     "text": [
      "4 4 1 2 3 4 5 6 7 8 9 10 11 12 13 14 15 16\n",
      "[['1', '2', '3', '4'], ['5', '6', '7', '8'], ['9', '10', '11', '12'], ['13', '14', '15', '16']]\n",
      "1 2 3 4 8 12 16 15 14 13 9 5 6 7 11 10 "
     ]
    }
   ],
   "source": [
    "str=input().strip().split(\" \")\n",
    "n=int(str[0])\n",
    "m=int(str[1])\n",
    "# print(n,m)\n",
    "\n",
    "l=str[2:]\n",
    "output= [ [l[i*m + j] for j in range(m)] for i in range(n)]\n",
    "print(output)\n",
    "\n",
    "rs=0\n",
    "re=n-1\n",
    "cs=0\n",
    "ce=m-1\n",
    "no=0\n",
    "while(no<n*m):\n",
    "    for i in range(cs,ce+1):\n",
    "        print(output[rs][i],end=\" \")\n",
    "        no+=1\n",
    "    rs+=1\n",
    "    for i in range(rs,re+1):\n",
    "        print(output[i][ce],end=\" \")\n",
    "        no+=1\n",
    "    ce-=1\n",
    "    for i in range(ce,cs-1,-1):\n",
    "        print(output[re][i],end=\" \")\n",
    "        no+=1\n",
    "    re-=1\n",
    "    for i in range(re,rs-1,-1):\n",
    "        print(output[i][cs],end=\" \")\n",
    "        no+=1\n",
    "    cs+=1\n",
    "    "
   ]
  },
  {
   "cell_type": "code",
   "execution_count": 23,
   "metadata": {},
   "outputs": [
    {
     "name": "stdout",
     "output_type": "stream",
     "text": [
      "2 2\n",
      "1 1 1 1\n",
      "row 0 2 "
     ]
    }
   ],
   "source": [
    "str=input().strip().split(\" \")\n",
    "n=int(str[0])\n",
    "m=int(str[1])\n",
    "# print(n,m)\n",
    "l=[int(i) for i in input().strip().split(\" \")]\n",
    "output= [ [l[i*m + j] for j in range(m)] for i in range(n)]\n",
    "max_sum1=0\n",
    "row=0\n",
    "max_sum2=0\n",
    "col=0\n",
    "d=0\n",
    "for i in range(n):\n",
    "    c=sum(output[i])\n",
    "        if c>max_sum1:\n",
    "            max_sum1=c\n",
    "            row=i\n",
    "    c=0\n",
    "for i in range(m):\n",
    "    for j in range(n):\n",
    "        d+=output[j][i]\n",
    "        if d>max_sum2:\n",
    "            max_sum2=d\n",
    "            col=i\n",
    "    d=0\n",
    "if max_sum1>=max_sum2:\n",
    "    print(\"row\",end=\" \")\n",
    "    print(row,end=\" \")\n",
    "    print(max_sum1,end=\" \")\n",
    "else:\n",
    "    print(\"column\",end=\" \")\n",
    "    print(col,end=\" \")\n",
    "    print(max_sum2,end=\" \")"
   ]
  }
 ],
 "metadata": {
  "kernelspec": {
   "display_name": "Python 3",
   "language": "python",
   "name": "python3"
  },
  "language_info": {
   "codemirror_mode": {
    "name": "ipython",
    "version": 3
   },
   "file_extension": ".py",
   "mimetype": "text/x-python",
   "name": "python",
   "nbconvert_exporter": "python",
   "pygments_lexer": "ipython3",
   "version": "3.6.5"
  }
 },
 "nbformat": 4,
 "nbformat_minor": 2
}

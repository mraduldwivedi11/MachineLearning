{
 "cells": [
  {
   "cell_type": "code",
   "execution_count": 12,
   "metadata": {},
   "outputs": [],
   "source": [
    "import numpy as np\n",
    "import pandas as pd"
   ]
  },
  {
   "cell_type": "code",
   "execution_count": 13,
   "metadata": {
    "scrolled": true
   },
   "outputs": [],
   "source": [
    "data= np.genfromtxt(r\"G:\\CodingNinzas\\ML_AT_CN\\LinearRegression\\DiabetesDataset\\x_y_train.csv\" , delimiter = \",\")\n",
    "test_data=np.genfromtxt(r\"G:\\CodingNinzas\\ML_AT_CN\\LinearRegression\\DiabetesDataset\\x_test.csv\" , delimiter = \",\")"
   ]
  },
  {
   "cell_type": "code",
   "execution_count": 14,
   "metadata": {},
   "outputs": [],
   "source": [
    "data.shape\n",
    "x=data[:,0:10]\n",
    "y=data[:,10]\n"
   ]
  },
  {
   "cell_type": "code",
   "execution_count": 15,
   "metadata": {},
   "outputs": [],
   "source": [
    "# import pandas as pd\n",
    "# data= pd.read_csv(r\"G:\\CodingNinzas\\ML_AT_CN\\LinearRegression\\DiabetesDataset\\x_y_train.csv\")\n",
    "# data.info()"
   ]
  },
  {
   "cell_type": "code",
   "execution_count": 16,
   "metadata": {},
   "outputs": [],
   "source": [
    "# from sklearn import model_selection\n",
    "# x_train,x_test,y_train,y_test = model_selection.train_test_split(x,y, test_size=0.3)"
   ]
  },
  {
   "cell_type": "code",
   "execution_count": 17,
   "metadata": {},
   "outputs": [
    {
     "data": {
      "text/plain": [
       "LinearRegression(copy_X=True, fit_intercept=True, n_jobs=1, normalize=False)"
      ]
     },
     "execution_count": 17,
     "metadata": {},
     "output_type": "execute_result"
    }
   ],
   "source": [
    "from sklearn.linear_model import LinearRegression\n",
    "alg1= LinearRegression()\n",
    "# alg1.fit(x_train,y_train)\n",
    "alg1.fit(x,y)"
   ]
  },
  {
   "cell_type": "code",
   "execution_count": 18,
   "metadata": {},
   "outputs": [],
   "source": [
    "# y_pred=alg1.predict(x_test)\n",
    "# alg1.score(x_train , y_train)\n",
    "# alg1.score(x_test,y_test)"
   ]
  },
  {
   "cell_type": "code",
   "execution_count": 19,
   "metadata": {},
   "outputs": [],
   "source": [
    "y_pred1=alg1.predict(test_data)\n",
    "df=pd.DataFrame(y_pred)\n",
    "df=df.round(5)\n",
    "y_pred=df.values\n",
    "# np.savetxt(\"y_pred.csv\" , delimiter=\",\" , X=\"1\")\n",
    "np.savetxt(\"y_prediction.csv\",y_pred ,delimiter=',')"
   ]
  }
 ],
 "metadata": {
  "kernelspec": {
   "display_name": "Python 3",
   "language": "python",
   "name": "python3"
  },
  "language_info": {
   "codemirror_mode": {
    "name": "ipython",
    "version": 3
   },
   "file_extension": ".py",
   "mimetype": "text/x-python",
   "name": "python",
   "nbconvert_exporter": "python",
   "pygments_lexer": "ipython3",
   "version": "3.6.5"
  }
 },
 "nbformat": 4,
 "nbformat_minor": 2
}

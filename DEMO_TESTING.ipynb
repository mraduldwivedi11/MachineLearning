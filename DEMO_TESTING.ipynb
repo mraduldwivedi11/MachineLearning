{
 "cells": [
  {
   "cell_type": "code",
   "execution_count": null,
   "metadata": {},
   "outputs": [
    {
     "name": "stdout",
     "output_type": "stream",
     "text": [
      "5\n"
     ]
    }
   ],
   "source": [
    "import math\n",
    "n=int(input())\n",
    "prime =True\n",
    "for i in range(2,int(math.sqrt(n))+1):\n",
    "    if n%i==0:\n",
    "        prime=False\n",
    "        break\n",
    "if prime:\n",
    "    print(\"Prime\")\n",
    "else:\n",
    "    print(\"not Prime\")"
   ]
  },
  {
   "cell_type": "code",
   "execution_count": 9,
   "metadata": {},
   "outputs": [
    {
     "name": "stdout",
     "output_type": "stream",
     "text": [
      "abcd\n",
      "a\n",
      "a\n",
      "a\n"
     ]
    }
   ],
   "source": [
    "x = 'abcd'\n",
    "for i in range(len(x)):\n",
    "   print(x)\n",
    "   x = 'a'"
   ]
  },
  {
   "cell_type": "code",
   "execution_count": 19,
   "metadata": {},
   "outputs": [
    {
     "name": "stdout",
     "output_type": "stream",
     "text": [
      "This Is A String\n",
      "sihT sI A gnirtS\n"
     ]
    }
   ],
   "source": [
    "# reverse the words in a string\n",
    "a=input()\n",
    "words=a.split(\" \")\n",
    "\n",
    "new_words=[word[::-1] for word in words]\n",
    "print(\" \".join(new_words))"
   ]
  },
  {
   "cell_type": "code",
   "execution_count": 21,
   "metadata": {},
   "outputs": [
    {
     "ename": "IndentationError",
     "evalue": "unindent does not match any outer indentation level (<ipython-input-21-a574835c4a57>, line 4)",
     "output_type": "error",
     "traceback": [
      "\u001b[1;36m  File \u001b[1;32m\"<ipython-input-21-a574835c4a57>\"\u001b[1;36m, line \u001b[1;32m4\u001b[0m\n\u001b[1;33m    elif a == b:\u001b[0m\n\u001b[1;37m                ^\u001b[0m\n\u001b[1;31mIndentationError\u001b[0m\u001b[1;31m:\u001b[0m unindent does not match any outer indentation level\n"
     ]
    }
   ],
   "source": [
    "def printMax(a, b):\n",
    "    if a > b:\n",
    "       print(a, ' is maximum')\n",
    "   elif a == b:\n",
    "       print(a,  'is equal to', b)\n",
    "   else:\n",
    "      print(b, ' is maximum')\n",
    "printMax(3, 4)"
   ]
  },
  {
   "cell_type": "code",
   "execution_count": 1,
   "metadata": {},
   "outputs": [
    {
     "name": "stdout",
     "output_type": "stream",
     "text": [
      "50\n"
     ]
    }
   ],
   "source": [
    "x=50\n",
    "def change(x):\n",
    "    x=2\n",
    "change(x)\n",
    "print(x)"
   ]
  },
  {
   "cell_type": "code",
   "execution_count": 2,
   "metadata": {},
   "outputs": [
    {
     "name": "stdout",
     "output_type": "stream",
     "text": [
      "34\n",
      "44\n"
     ]
    }
   ],
   "source": [
    "##even fibonacci numbers\n",
    "x=int(input())\n",
    "t1=2\n",
    "t2=8\n",
    "sum=10\n",
    "while True:\n",
    "    temp=4*t2+t1\n",
    "    t1=t2\n",
    "    t2=temp\n",
    "    if temp<=x:\n",
    "        sum+=temp\n",
    "    else:\n",
    "        break\n",
    "print(sum)"
   ]
  },
  {
   "cell_type": "code",
   "execution_count": 16,
   "metadata": {},
   "outputs": [
    {
     "name": "stdout",
     "output_type": "stream",
     "text": [
      "5\n",
      "1 \n",
      "3 2 \n",
      "4 5 6 \n",
      "10 9 8 7 \n",
      "11 12 13 14 15 \n"
     ]
    }
   ],
   "source": [
    "##reversing series pattern\n",
    "x=int(input())\n",
    "for i in range(1,x+1):\n",
    "    p=i*(i-1)//2\n",
    "    if i%2!=0:\n",
    "        for j in range(p+1,p+i+1):\n",
    "            print(j,end=\" \")\n",
    "    else:\n",
    "        for j in range(p+i,p,-1):\n",
    "             print(j,end=\" \")\n",
    "    print()\n",
    "        "
   ]
  },
  {
   "cell_type": "code",
   "execution_count": 6,
   "metadata": {},
   "outputs": [
    {
     "name": "stdout",
     "output_type": "stream",
     "text": [
      "8\n",
      "1000"
     ]
    }
   ],
   "source": [
    "##decimal to binary\n",
    "x=int(input())\n",
    "lst=[]\n",
    "temp=x\n",
    "while temp>0:\n",
    "    lst.append(temp%2)\n",
    "    temp=temp//2\n",
    "lst=lst[::-1]\n",
    "for i in lst:\n",
    "    print(i,end=\"\")"
   ]
  },
  {
   "cell_type": "code",
   "execution_count": 14,
   "metadata": {},
   "outputs": [
    {
     "name": "stdout",
     "output_type": "stream",
     "text": [
      "9\n",
      "2\n",
      "3\n",
      "5\n",
      "7\n"
     ]
    }
   ],
   "source": [
    "## print prime\n",
    "import math\n",
    "x=int(input())\n",
    "for i in range(2,x+1):\n",
    "    prime=True\n",
    "    for j in range(2,int(math.sqrt(i))+1):\n",
    "        if i%j==0:\n",
    "            prime=False\n",
    "            break\n",
    "    if prime:\n",
    "        print(i)\n",
    "        "
   ]
  },
  {
   "cell_type": "code",
   "execution_count": 3,
   "metadata": {},
   "outputs": [
    {
     "name": "stdout",
     "output_type": "stream",
     "text": [
      "4617\n",
      "1151\n"
     ]
    }
   ],
   "source": [
    "##trailing zero in factorial\n",
    "x=int(input())\n",
    "zero=0\n",
    "i=1\n",
    "while int(x/(5**i))>=1:\n",
    "    zero+=x//(5**i)\n",
    "    i+=1\n",
    "print(zero)"
   ]
  },
  {
   "cell_type": "code",
   "execution_count": 2,
   "metadata": {},
   "outputs": [
    {
     "name": "stdout",
     "output_type": "stream",
     "text": [
      "abcdabceb\n",
      "dabce\n"
     ]
    }
   ],
   "source": [
    "x=input()\n",
    "max_index=0\n",
    "max_len=0\n",
    "\n",
    "for i in range(0,len(x)):\n",
    "    count=1\n",
    "    for j in range(i+1,len(x)):\n",
    "            if(x[j] in x[i:j]):\n",
    "                    break\n",
    "            else:\n",
    "                count+=1\n",
    "    if(max_len<count):\n",
    "        max_len=count\n",
    "        max_index=i\n",
    "print(x[max_index:max_index+max_len])"
   ]
  },
  {
   "cell_type": "code",
   "execution_count": 5,
   "metadata": {},
   "outputs": [
    {
     "name": "stdout",
     "output_type": "stream",
     "text": [
      "2 2\n",
      "1 1 1 1\n",
      "row 0 2 "
     ]
    }
   ],
   "source": [
    "str=input().strip().split(\" \")\n",
    "n=int(str[0])\n",
    "m=int(str[1])\n",
    "\n",
    "l=[int(i) for i in input().strip().split(\" \")]\n",
    "output= [ [ l[i*m + j] for j in range(m)] for i in range(n)]\n",
    "max_sum1=-1\n",
    "row=0\n",
    "max_sum2=-1\n",
    "col=0\n",
    "d=0\n",
    "for i in range(n):\n",
    "\tfor j in range(m):\n",
    "\tc+=output[i][j]\n",
    "    if c>max_sum1:\n",
    "        max_sum1=c\n",
    "        row=i\n",
    "    c=0    \n",
    "        \n",
    "for i in range(m):\n",
    "\tfor j in range(n):\n",
    "        d+=output[j][i]\n",
    "    if d>max_sum2:\n",
    "        max_sum2=d\n",
    "        col=i\n",
    "    d=0    \n",
    "        \n",
    "if max_sum1>=max_sum2:\n",
    "    print(\"row\",end=\" \")\n",
    "    print(row,end=\" \")\n",
    "    print(max_sum1,end=\" \")\n",
    "else:\n",
    "    print(\"column\",end=\" \")\n",
    "    print(col,end=\" \")\n",
    "    print(max_sum2,end=\" \")"
   ]
  },
  {
   "cell_type": "code",
   "execution_count": 7,
   "metadata": {},
   "outputs": [
    {
     "name": "stdout",
     "output_type": "stream",
     "text": [
      "int32\n"
     ]
    },
    {
     "data": {
      "text/plain": [
       "(3,)"
      ]
     },
     "execution_count": 7,
     "metadata": {},
     "output_type": "execute_result"
    }
   ],
   "source": [
    "import numpy as np\n",
    "a=np.array([1,2,3])\n",
    "print(a.dtype)\n",
    "a.shape\n",
    "\n",
    "b=np.ones((3,3))"
   ]
  }
 ],
 "metadata": {
  "kernelspec": {
   "display_name": "Python 3",
   "language": "python",
   "name": "python3"
  },
  "language_info": {
   "codemirror_mode": {
    "name": "ipython",
    "version": 3
   },
   "file_extension": ".py",
   "mimetype": "text/x-python",
   "name": "python",
   "nbconvert_exporter": "python",
   "pygments_lexer": "ipython3",
   "version": "3.6.5"
  }
 },
 "nbformat": 4,
 "nbformat_minor": 2
}

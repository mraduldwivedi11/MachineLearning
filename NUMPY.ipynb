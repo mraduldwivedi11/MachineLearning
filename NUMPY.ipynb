{
 "cells": [
  {
   "cell_type": "markdown",
   "metadata": {},
   "source": [
    "# numpy are array having same type of elements it is compact than list  it is fast due to written in c\n"
   ]
  },
  {
   "cell_type": "code",
   "execution_count": 3,
   "metadata": {},
   "outputs": [],
   "source": [
    "import numpy as np\n",
    "import math as m"
   ]
  },
  {
   "cell_type": "code",
   "execution_count": 18,
   "metadata": {},
   "outputs": [
    {
     "name": "stdout",
     "output_type": "stream",
     "text": [
      "[1, 2, 3]\n",
      "[1 2 3]\n",
      "<class 'list'>\n",
      "<class 'numpy.ndarray'>\n",
      "int32\n",
      "['1' '2' '3' '5']\n",
      "[1. 1. 1. 1. 1. 1. 1. 1. 1. 1.]\n",
      "[0. 0. 0. 0. 0. 0. 0. 0. 0. 0.]\n",
      "float64\n",
      "[0 0 0 0 0 0 0 0 0 0]\n",
      "int32\n"
     ]
    }
   ],
   "source": [
    "#how to craete numpy array\n",
    "l=[1,2,3]\n",
    "a=np.array(l)\n",
    "print(l)\n",
    "print(a)\n",
    "print(type(l))\n",
    "print(type(a))\n",
    "\n",
    "##############################find datay type of a numpy array elements\n",
    "print(a.dtype)\n",
    "\n",
    "b=[1,2,3,\"5\"]\n",
    "b2=np.array(b)\n",
    "print(b2)  ## it converts ALL elements into str\n",
    "\n",
    "\n",
    "#######################################some 1d array functions\n",
    "a1=np.ones(10)\n",
    "print(a1)\n",
    "a0=np.zeros(10)\n",
    "print(a0)\n",
    "print(a0.dtype)\n",
    "\n",
    "a0_int=np.zeros(10,int)\n",
    "print(a0_int)\n",
    "print(a0_int.dtype)"
   ]
  },
  {
   "cell_type": "code",
   "execution_count": 6,
   "metadata": {},
   "outputs": [
    {
     "name": "stdout",
     "output_type": "stream",
     "text": [
      "[[0 0 0]\n",
      " [0 0 0]]\n",
      "[[0 2 0]\n",
      " [0 0 0]]\n",
      "16\n"
     ]
    },
    {
     "data": {
      "text/plain": [
       "array([[[0, 0],\n",
       "        [0, 0],\n",
       "        [0, 0],\n",
       "        [0, 0]],\n",
       "\n",
       "       [[0, 0],\n",
       "        [0, 0],\n",
       "        [0, 0],\n",
       "        [0, 0]]])"
      ]
     },
     "execution_count": 6,
     "metadata": {},
     "output_type": "execute_result"
    }
   ],
   "source": [
    "########## create 2d matrix\n",
    "\n",
    "a2d=np.zeros((2,3),int)\n",
    "print(a2d)\n",
    "\n",
    "\n",
    "a2d[0][1]=\"2\"\n",
    "print(a2d)  #############################automatically convert \"1\" to int 1\n",
    "\n",
    "###### multidimnsional\n",
    "amd=np.zeros((2,4,2),int)\n",
    "\n",
    "\n",
    "print(amd.size)    ########### .size tells total no. of element\n",
    "\n",
    "\n",
    "amd"
   ]
  },
  {
   "cell_type": "code",
   "execution_count": 35,
   "metadata": {},
   "outputs": [
    {
     "name": "stdout",
     "output_type": "stream",
     "text": [
      "(2, 3)\n"
     ]
    }
   ],
   "source": [
    "############## slicing works in this too\n",
    "\n",
    "\n",
    "##############size or shape of numpy\n",
    "print(a2d.shape)"
   ]
  },
  {
   "cell_type": "code",
   "execution_count": 18,
   "metadata": {},
   "outputs": [
    {
     "name": "stdout",
     "output_type": "stream",
     "text": [
      "[[ 1  2  3]\n",
      " [ 4  5  6]\n",
      " [ 7  8  9]\n",
      " [10 11  7]]\n",
      "\n",
      "[1 2 3]\n",
      "\n",
      "[ 1  4  7 10]\n",
      "\n",
      "[1 4]\n",
      "\n",
      "[[ 1  2]\n",
      " [ 4  5]\n",
      " [ 7  8]\n",
      " [10 11]]\n",
      "\n",
      "[1 2]\n",
      "\n",
      "(4, 2)\n"
     ]
    }
   ],
   "source": [
    "##acessing elements\n",
    "arr=np.array([[1,2,3],[4,5,6],[7,8,9],[10,11,7]])\n",
    "print(arr)\n",
    "print()\n",
    "\n",
    "print(arr[0])  #this gives first row\n",
    "print()\n",
    "print(arr[:,0])  ## this gives first column  means \"[:\"-> acces all row but just first column\n",
    "print()\n",
    "print(arr[0:2,0])  ## this means first column but from row 1 and 1\n",
    "print()\n",
    "print(arr[:,0:2])  ## this gives all rows from column 0 to 1\n",
    "print()\n",
    "print(arr[0,0:2])  ## this means first row but just columnt 0 to 1\n",
    "print()\n",
    "print(arr[:,0:2].shape)"
   ]
  },
  {
   "cell_type": "markdown",
   "metadata": {},
   "source": [
    "# numpy operations  --->"
   ]
  },
  {
   "cell_type": "code",
   "execution_count": 69,
   "metadata": {},
   "outputs": [
    {
     "name": "stdout",
     "output_type": "stream",
     "text": [
      "[3 4 5]\n",
      "[5 7 9]\n",
      "[2 4 6]\n",
      "[ 4 10 18]\n"
     ]
    }
   ],
   "source": [
    "###it works as elemenst wise\n",
    "a=np.array([1,2,3])\n",
    "b=np.array([4,5,6])\n",
    "print(a+2)  ## it just adds 2 in each elements\n",
    "print(a+b)  ## it just adda a and b elments wise if dimenssions are not same than we get error\n",
    "\n",
    "print(a*2)\n",
    "print(a*b)"
   ]
  },
  {
   "cell_type": "code",
   "execution_count": 71,
   "metadata": {},
   "outputs": [
    {
     "name": "stdout",
     "output_type": "stream",
     "text": [
      "6\n",
      "2.0\n"
     ]
    }
   ],
   "source": [
    "print(a.sum())\n",
    "print(a.mean())"
   ]
  },
  {
   "cell_type": "code",
   "execution_count": 76,
   "metadata": {},
   "outputs": [
    {
     "data": {
      "text/plain": [
       "5.196152422706632"
      ]
     },
     "execution_count": 76,
     "metadata": {},
     "output_type": "execute_result"
    }
   ],
   "source": [
    "#### find square distance\n",
    "a=np.array([1,2,3])\n",
    "b=np.array([4,5,6])\n",
    "sq_d=((a-b)**2).sum()\n",
    "m.sqrt(sq_d)"
   ]
  },
  {
   "cell_type": "code",
   "execution_count": 80,
   "metadata": {},
   "outputs": [
    {
     "name": "stdout",
     "output_type": "stream",
     "text": [
      "[1 2 3]\n",
      "2.0\n"
     ]
    }
   ],
   "source": [
    "## calculate standard deviation sigma(x-xbar)**2\n",
    "a=np.array([1,2,3])\n",
    "print(a)\n",
    "std=((a-a.mean())**2).sum()\n",
    "print(std)"
   ]
  },
  {
   "cell_type": "code",
   "execution_count": 83,
   "metadata": {},
   "outputs": [
    {
     "data": {
      "text/plain": [
       "array([[ 31,  52,  56],\n",
       "       [135, 258, 347],\n",
       "       [ 36,  62,  67]])"
      ]
     },
     "execution_count": 83,
     "metadata": {},
     "output_type": "execute_result"
    }
   ],
   "source": [
    "a1=np.array([[1,3,5],[45,7,6],[2,4,5]])\n",
    "a2=np.array([[2,4,6],[3,6,5],[4,6,7]])\n",
    "a1.dot(a2)"
   ]
  },
  {
   "cell_type": "code",
   "execution_count": 33,
   "metadata": {},
   "outputs": [
    {
     "name": "stdout",
     "output_type": "stream",
     "text": [
      "[1 5]\n"
     ]
    }
   ],
   "source": [
    "a=np.array([0,1,2,3])\n",
    "b=np.array([2,3,4,5])\n",
    "a.dot(b)\n",
    "\n",
    "\n",
    "print(np.sum([[0, 1], [0, 5]] , axis=1))    ###### axis 0 for column wise 1 for row wise"
   ]
  },
  {
   "cell_type": "code",
   "execution_count": 10,
   "metadata": {},
   "outputs": [
    {
     "name": "stdout",
     "output_type": "stream",
     "text": [
      "[1.  1.2 1.4 1.6 1.8 2.  2.2 2.4 2.6 2.8 3.  3.2 3.4 3.6 3.8 4.  4.2 4.4\n",
      " 4.6 4.8]\n",
      "[1.         1.44444444 1.88888889 2.33333333 2.77777778 3.22222222\n",
      " 3.66666667 4.11111111 4.55555556 5.        ]\n"
     ]
    }
   ],
   "source": [
    "#### for creating a array of same interval\n",
    "x=np.arange(1,5,0.2)\n",
    "print(x)\n",
    "\n",
    "y=np.linspace(1,5,10)     ################### this means to generate 10 linearly seperated number bw 1 to 5 \n",
    "print(y)"
   ]
  },
  {
   "cell_type": "code",
   "execution_count": 27,
   "metadata": {},
   "outputs": [
    {
     "name": "stdout",
     "output_type": "stream",
     "text": [
      "[[1 2 3]\n",
      " [4 6 7]]\n",
      "\n",
      "[[1 2]\n",
      " [3 4]\n",
      " [6 7]]\n",
      "\n",
      "[1 2 3 4 6 7]\n"
     ]
    }
   ],
   "source": [
    "a=np.array([[1,2,3],[4,6,7]])\n",
    "a.shape\n",
    "print(a)\n",
    "print()\n",
    "\n",
    "\n",
    "print(a.reshape(3,2))    ############## reshape is use to reshape it in its compitable size\n",
    "print()\n",
    "print(a.ravel())    ####### it creates whole array into 1d"
   ]
  }
 ],
 "metadata": {
  "kernelspec": {
   "display_name": "Python 3",
   "language": "python",
   "name": "python3"
  },
  "language_info": {
   "codemirror_mode": {
    "name": "ipython",
    "version": 3
   },
   "file_extension": ".py",
   "mimetype": "text/x-python",
   "name": "python",
   "nbconvert_exporter": "python",
   "pygments_lexer": "ipython3",
   "version": "3.6.5"
  }
 },
 "nbformat": 4,
 "nbformat_minor": 2
}

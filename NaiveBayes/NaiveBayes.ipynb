{
 "cells": [
  {
   "cell_type": "code",
   "execution_count": 7,
   "metadata": {},
   "outputs": [],
   "source": [
    "import numpy as np"
   ]
  },
  {
   "cell_type": "code",
   "execution_count": 8,
   "metadata": {},
   "outputs": [],
   "source": [
    "def fit(x_train , y_train):\n",
    "    result={}\n",
    "    class_values = set(y_train)\n",
    "    for current_class in class_values:\n",
    "        result[current_class]={}\n",
    "        result[\"total_data\"]= len(y_train)\n",
    "        current_class_rows = (y_train == current_class)  ## best method to select ur x_train ny y_train\n",
    "        x_train_current = x_train[current_class_rows]\n",
    "        y_train_current = y_train[current_class_rows]\n",
    "        num_features = x_train.shape[1]\n",
    "        result[current_class][\"total_count\"]=len(y_train_current)\n",
    "        for j in range(1, num_features+1):\n",
    "            result[current_class][j]={}\n",
    "            all_possible_values = set(x_train[:,j-1])\n",
    "            for current_value in all_possible_values:\n",
    "                result[current_class][j][current_value]= (x_train_current[:,j-1]==current_value).sum()\n",
    "    return result"
   ]
  },
  {
   "cell_type": "code",
   "execution_count": 8,
   "metadata": {},
   "outputs": [],
   "source": [
    "from pprint import pprint"
   ]
  },
  {
   "cell_type": "code",
   "execution_count": 9,
   "metadata": {},
   "outputs": [],
   "source": [
    "def probability(dictionary , x , current_class):\n",
    "    output = np.log(dictionary[current_class][\"total_count\"]) - np.log(dictionary[\"total_data\"])\n",
    "    num_features = len(dictionary[current_class].keys())-1\n",
    "    for j in range(1, num_features+1):\n",
    "        xj=x[j-1]\n",
    "        \n",
    "#       ________________________________________________________________________________________________\n",
    "#\n",
    "#          WITHOUT LAPLACE CORRECTION\n",
    "#         count_current_class_with_value_xj=dictionary[current_class][xj]  ### means ye numerator h\n",
    "#         count_current_class = dictionary[current_class][\"total_count\"]  ### denominator\n",
    "#         current_xj_probability=count_current_class_with_value_xj/count_current_class_with_value_xj\n",
    "#       ________________________________________________________________________________________________\n",
    "#\n",
    "#        WITH LAPLACE CORRECTION\n",
    "\n",
    "        count_current_class_with_value_xj=dictionary[current_class][j][xj]  + 1  ### means ye numerator h , 1 add kra for laplace\n",
    "        count_current_class = dictionary[current_class][\"total_count\"] + len(dictionary[current_class][j].keys()) ### denominator\n",
    "        current_xj_probability=np.log(count_current_class_with_value_xj)- np.log(count_current_class)\n",
    "        output=output + current_xj_probability\n",
    "    return output\n"
   ]
  },
  {
   "cell_type": "code",
   "execution_count": 10,
   "metadata": {},
   "outputs": [],
   "source": [
    "def predict_single_point(dictionary , x):\n",
    "    classes =  dictionary.keys()\n",
    "    best_p = -1000\n",
    "    best_class=-1\n",
    "    first_run = True\n",
    "    for current_class in classes:\n",
    "        if current_class == \"total_data\":\n",
    "            continue\n",
    "        p_current_class = probability(dictionary , x , current_class)\n",
    "        if(first_run or p_current_class > best_p):\n",
    "            best_p = p_current_class\n",
    "            best_class = current_class\n",
    "            first_run = False\n",
    "    return best_class"
   ]
  },
  {
   "cell_type": "code",
   "execution_count": 11,
   "metadata": {},
   "outputs": [],
   "source": [
    "def predict(dictionary,x_test):\n",
    "    y_pred=[]\n",
    "    for x in x_test:\n",
    "        x_class = predict_single_point(dictionary , x)\n",
    "        y_pred.append(x_class)\n",
    "    return y_pred"
   ]
  },
  {
   "cell_type": "code",
   "execution_count": 12,
   "metadata": {},
   "outputs": [],
   "source": [
    "def make_labeled(column):  #here we take one column of dataset and convert it into labels\n",
    "    second_limit= column.mean()\n",
    "    first_limit = 0.5*second_limit\n",
    "    third_limit = 1.5*second_limit\n",
    "    for i in range(0,len(column)):\n",
    "        if (column[i]<first_limit):\n",
    "            column[i]=0\n",
    "        elif (column[i]<second_limit):\n",
    "            column[i]=1\n",
    "        elif (column[i]<third_limit):\n",
    "            column[i]=2\n",
    "        else:\n",
    "            column[i]=3\n",
    "    return column\n",
    "    "
   ]
  },
  {
   "cell_type": "code",
   "execution_count": 4,
   "metadata": {},
   "outputs": [
    {
     "name": "stdout",
     "output_type": "stream",
     "text": [
      "{0, 1, 2}\n"
     ]
    }
   ],
   "source": [
    "from sklearn import datasets\n",
    "iris = datasets.load_iris()\n",
    "x=iris.data\n",
    "y=iris.target\n",
    "\n",
    "print(set(y))"
   ]
  },
  {
   "cell_type": "code",
   "execution_count": 14,
   "metadata": {},
   "outputs": [],
   "source": [
    "for i in range(0,x.shape[1]):\n",
    "    x[:,i] = make_labeled(x[:,i])"
   ]
  },
  {
   "cell_type": "code",
   "execution_count": 15,
   "metadata": {},
   "outputs": [],
   "source": [
    "from sklearn import model_selection\n",
    "x_train,x_test,y_train,y_test= model_selection.train_test_split(x,y, test_size=0.25 , random_state=0)"
   ]
  },
  {
   "cell_type": "code",
   "execution_count": 16,
   "metadata": {},
   "outputs": [],
   "source": [
    "dictionary = fit(x_train,y_train)"
   ]
  },
  {
   "cell_type": "code",
   "execution_count": 17,
   "metadata": {},
   "outputs": [],
   "source": [
    "y_pred= predict(dictionary,x_test)"
   ]
  },
  {
   "cell_type": "code",
   "execution_count": 19,
   "metadata": {},
   "outputs": [
    {
     "name": "stdout",
     "output_type": "stream",
     "text": [
      "             precision    recall  f1-score   support\n",
      "\n",
      "          0       1.00      1.00      1.00        13\n",
      "          1       0.94      1.00      0.97        16\n",
      "          2       1.00      0.89      0.94         9\n",
      "\n",
      "avg / total       0.98      0.97      0.97        38\n",
      "\n",
      "[[13  0  0]\n",
      " [ 0 16  0]\n",
      " [ 0  1  8]]\n"
     ]
    }
   ],
   "source": [
    "from sklearn.metrics import classification_report,confusion_matrix\n",
    "print(classification_report(y_test,y_pred))\n",
    "print(confusion_matrix(y_test,y_pred))"
   ]
  },
  {
   "cell_type": "code",
   "execution_count": 25,
   "metadata": {},
   "outputs": [
    {
     "name": "stdout",
     "output_type": "stream",
     "text": [
      "             precision    recall  f1-score   support\n",
      "\n",
      "          0       1.00      0.85      0.92        13\n",
      "          1       0.76      1.00      0.86        16\n",
      "          2       1.00      0.67      0.80         9\n",
      "\n",
      "avg / total       0.90      0.87      0.87        38\n",
      "\n",
      "[[11  2  0]\n",
      " [ 0 16  0]\n",
      " [ 0  3  6]]\n"
     ]
    }
   ],
   "source": [
    "from sklearn.naive_bayes import GaussianNB\n",
    "clf= GaussianNB()\n",
    "clf.fit(x_train , y_train)\n",
    "y_pred= clf.predict(x_test)\n",
    "print(classification_report(y_test,y_pred))\n",
    "print(confusion_matrix(y_test,y_pred))"
   ]
  }
 ],
 "metadata": {
  "kernelspec": {
   "display_name": "Python 3",
   "language": "python",
   "name": "python3"
  },
  "language_info": {
   "codemirror_mode": {
    "name": "ipython",
    "version": 3
   },
   "file_extension": ".py",
   "mimetype": "text/x-python",
   "name": "python",
   "nbconvert_exporter": "python",
   "pygments_lexer": "ipython3",
   "version": "3.6.5"
  }
 },
 "nbformat": 4,
 "nbformat_minor": 2
}

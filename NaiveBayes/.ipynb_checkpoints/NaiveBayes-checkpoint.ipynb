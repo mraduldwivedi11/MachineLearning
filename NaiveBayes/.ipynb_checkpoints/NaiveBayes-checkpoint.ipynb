{
 "cells": [
  {
   "cell_type": "code",
   "execution_count": 1,
   "metadata": {},
   "outputs": [],
   "source": [
    "import numpy as np"
   ]
  },
  {
   "cell_type": "code",
   "execution_count": null,
   "metadata": {},
   "outputs": [],
   "source": [
    "def fit(x_train , y_train):\n",
    "    result={}\n",
    "    class_values = set(y_train)\n",
    "    for current_class in class_values:\n",
    "        result[current_class]={}\n",
    "        result[\"total data\"]= len(y_train)\n",
    "        current_class_rows = (y.train == current_class)  ## best method to select ur x_train ny y_train\n",
    "        x_train_current = x_train[current_class_rows]\n",
    "        y_train_current = y_train[current_class_rows]\n",
    "        num_features = x_train.shape[1]\n",
    "        for current_feature in range(1, num_features+1):\n",
    "            result[current_class][current_feature]={}\n",
    "            result[current_class][current_feature][\"total count\"]=y_train_current.shape[0]\n",
    "            all_possible_values = set(x_train[:,y])\n",
    "            for current_value in all_possible_values:\n",
    "                result[current_class][current_feature][current_value]= (x_train_current[:,j]==current_value).sum()"
   ]
  }
 ],
 "metadata": {
  "kernelspec": {
   "display_name": "Python 3",
   "language": "python",
   "name": "python3"
  },
  "language_info": {
   "codemirror_mode": {
    "name": "ipython",
    "version": 3
   },
   "file_extension": ".py",
   "mimetype": "text/x-python",
   "name": "python",
   "nbconvert_exporter": "python",
   "pygments_lexer": "ipython3",
   "version": "3.6.5"
  }
 },
 "nbformat": 4,
 "nbformat_minor": 2
}

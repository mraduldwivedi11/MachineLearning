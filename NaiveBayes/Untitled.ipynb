{
 "cells": [
  {
   "cell_type": "code",
   "execution_count": 2,
   "metadata": {},
   "outputs": [],
   "source": [
    "import numpy as np"
   ]
  },
  {
   "cell_type": "code",
   "execution_count": 3,
   "metadata": {},
   "outputs": [],
   "source": [
    "def fit(x_train , y_train):\n",
    "    result={}\n",
    "    classes = set(y_train)\n",
    "    for current_class in classes:\n",
    "        result[current_class]={}\n",
    "        \n",
    "        result[total_data]=y_train.count()\n",
    "        current_class_rows = (y_train==current_class)\n",
    "        x_train_current = x_train[current_class_rows]\n",
    "        y_train_current = y_train[current_class_rows]\n",
    "        result[current_class][total_in_class]=x_train_current.shape[1]\n",
    "        feature_count=x_train.shape[1]\n",
    "        for j in range(1,feature_count+1):\n",
    "            result[current_class][j]={}\n",
    "            all_possible_values=set(x_train[:,j])\n",
    "            for current_value in all_possible_values:\n",
    "                result[current_class][j][current_value]=(x_train_current[:,j]==current_value).sum()\n",
    "    return result\n",
    "            \n",
    "        "
   ]
  }
 ],
 "metadata": {
  "kernelspec": {
   "display_name": "Python 3",
   "language": "python",
   "name": "python3"
  },
  "language_info": {
   "codemirror_mode": {
    "name": "ipython",
    "version": 3
   },
   "file_extension": ".py",
   "mimetype": "text/x-python",
   "name": "python",
   "nbconvert_exporter": "python",
   "pygments_lexer": "ipython3",
   "version": "3.6.5"
  }
 },
 "nbformat": 4,
 "nbformat_minor": 2
}

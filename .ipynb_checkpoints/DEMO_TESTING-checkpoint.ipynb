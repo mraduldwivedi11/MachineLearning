{
 "cells": [
  {
   "cell_type": "code",
   "execution_count": 7,
   "metadata": {},
   "outputs": [
    {
     "name": "stdout",
     "output_type": "stream",
     "text": [
      "5\n",
      "Prime\n"
     ]
    }
   ],
   "source": [
    "import math\n",
    "n=int(input())\n",
    "prime =True\n",
    "for i in range(2,int(math.sqrt(n))+1):\n",
    "    if n%i==0:\n",
    "        prime=False\n",
    "        break\n",
    "if prime:\n",
    "    print(\"Prime\")\n",
    "else:\n",
    "    print(\"not Prime\")"
   ]
  },
  {
   "cell_type": "code",
   "execution_count": 9,
   "metadata": {},
   "outputs": [
    {
     "name": "stdout",
     "output_type": "stream",
     "text": [
      "abcd\n",
      "a\n",
      "a\n",
      "a\n"
     ]
    }
   ],
   "source": [
    "x = 'abcd'\n",
    "for i in range(len(x)):\n",
    "   print(x)\n",
    "   x = 'a'"
   ]
  },
  {
   "cell_type": "code",
   "execution_count": 19,
   "metadata": {},
   "outputs": [
    {
     "name": "stdout",
     "output_type": "stream",
     "text": [
      "This Is A String\n",
      "sihT sI A gnirtS\n"
     ]
    }
   ],
   "source": [
    "# reverse the words in a string\n",
    "a=input()\n",
    "words=a.split(\" \")\n",
    "\n",
    "new_words=[word[::-1] for word in words]\n",
    "print(\" \".join(new_words))"
   ]
  },
  {
   "cell_type": "code",
   "execution_count": 21,
   "metadata": {},
   "outputs": [
    {
     "ename": "IndentationError",
     "evalue": "unindent does not match any outer indentation level (<ipython-input-21-a574835c4a57>, line 4)",
     "output_type": "error",
     "traceback": [
      "\u001b[1;36m  File \u001b[1;32m\"<ipython-input-21-a574835c4a57>\"\u001b[1;36m, line \u001b[1;32m4\u001b[0m\n\u001b[1;33m    elif a == b:\u001b[0m\n\u001b[1;37m                ^\u001b[0m\n\u001b[1;31mIndentationError\u001b[0m\u001b[1;31m:\u001b[0m unindent does not match any outer indentation level\n"
     ]
    }
   ],
   "source": [
    "def printMax(a, b):\n",
    "    if a > b:\n",
    "       print(a, ' is maximum')\n",
    "   elif a == b:\n",
    "       print(a,  'is equal to', b)\n",
    "   else:\n",
    "      print(b, ' is maximum')\n",
    "printMax(3, 4)"
   ]
  },
  {
   "cell_type": "code",
   "execution_count": 1,
   "metadata": {},
   "outputs": [
    {
     "name": "stdout",
     "output_type": "stream",
     "text": [
      "50\n"
     ]
    }
   ],
   "source": [
    "x=50\n",
    "def change(x):\n",
    "    x=2\n",
    "change(x)\n",
    "print(x)"
   ]
  },
  {
   "cell_type": "code",
   "execution_count": 17,
   "metadata": {},
   "outputs": [
    {
     "name": "stdout",
     "output_type": "stream",
     "text": [
      "400\n",
      "1 1\n",
      "1 2\n",
      "this is sum2\n",
      "2 3\n",
      "3 5\n",
      "5 8\n",
      "this is sum10\n",
      "8 13\n",
      "13 21\n",
      "21 34\n",
      "this is sum44\n",
      "34 55\n",
      "55 89\n",
      "89 144\n",
      "this is sum188\n",
      "144 233\n",
      "233 377\n",
      "377 610\n",
      "this is sum798\n",
      "798\n"
     ]
    }
   ],
   "source": [
    "x=int(input())\n",
    "t1=0\n",
    "t2=1\n",
    "sum=0\n",
    "sum2=0\n",
    "while sum2<=x:\n",
    "    sum=t1+t2\n",
    "    t1=t2\n",
    "    t2=sum\n",
    "    print(t1,t2)\n",
    "    if sum%2==0 and sum<=x:\n",
    "            sum2+=sum\n",
    "            print(f\"this is sum{sum2}\")\n",
    "print(sum2)"
   ]
  }
 ],
 "metadata": {
  "kernelspec": {
   "display_name": "Python 3",
   "language": "python",
   "name": "python3"
  },
  "language_info": {
   "codemirror_mode": {
    "name": "ipython",
    "version": 3
   },
   "file_extension": ".py",
   "mimetype": "text/x-python",
   "name": "python",
   "nbconvert_exporter": "python",
   "pygments_lexer": "ipython3",
   "version": "3.6.5"
  }
 },
 "nbformat": 4,
 "nbformat_minor": 2
}

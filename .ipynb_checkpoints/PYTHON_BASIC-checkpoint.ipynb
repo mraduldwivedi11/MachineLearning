{
 "cells": [
  {
   "cell_type": "markdown",
   "metadata": {},
   "source": [
    "## Ctr + enter --> to compile that cell\n",
    "## alt + enter --> to compile that cell and create a new one too\n",
    "## last line is output\n",
    "## order of execution matters "
   ]
  },
  {
   "cell_type": "code",
   "execution_count": 3,
   "metadata": {},
   "outputs": [
    {
     "name": "stdout",
     "output_type": "stream",
     "text": [
      "15 56\n"
     ]
    }
   ],
   "source": [
    "## print function\n",
    "a=15\n",
    "print(a, end =\" \")  #use end to decide how we want to seperate two print statement\n",
    "print(56)"
   ]
  },
  {
   "cell_type": "code",
   "execution_count": 5,
   "metadata": {},
   "outputs": [
    {
     "data": {
      "text/plain": [
       "4"
      ]
     },
     "execution_count": 5,
     "metadata": {},
     "output_type": "execute_result"
    }
   ],
   "source": [
    "# last ine is output\n",
    "z=4\n",
    "z"
   ]
  },
  {
   "cell_type": "code",
   "execution_count": 6,
   "metadata": {},
   "outputs": [
    {
     "name": "stdout",
     "output_type": "stream",
     "text": [
      "<class 'int'>\n",
      "<class 'float'>\n",
      "<class 'complex'>\n"
     ]
    }
   ],
   "source": [
    "# variables\n",
    "# we reassign variable at any time\n",
    "a=55\n",
    "print(type(a))\n",
    "b=6.4\n",
    "print(type(b))\n",
    "c=3+4j\n",
    "print(type(c))"
   ]
  },
  {
   "cell_type": "code",
   "execution_count": 11,
   "metadata": {},
   "outputs": [
    {
     "name": "stdout",
     "output_type": "stream",
     "text": [
      "61.4\n",
      "3.9285714285714284\n",
      "3\n",
      "2317809042866461181640625\n"
     ]
    }
   ],
   "source": [
    "#operators\n",
    "print(a+b)\n",
    "c=14\n",
    "print(a/c)  # this gives always float result\n",
    "print(a//c) # this is integer division\n",
    "print(a**c) # a to the power c"
   ]
  },
  {
   "cell_type": "code",
   "execution_count": 23,
   "metadata": {},
   "outputs": [
    {
     "name": "stdout",
     "output_type": "stream",
     "text": [
      "<class 'str'>\n",
      "14\n",
      "16\n",
      "<class 'str'>\n",
      "defpqr\n"
     ]
    }
   ],
   "source": [
    "# srtring\n",
    "# there is no char in py so everything is str so \"\" == '' \n",
    "print(type('g'))\n",
    "s=\"this is string\"\n",
    "print(len(s))\n",
    "# s[0]='p' # string are immutable this gives error\n",
    "s=\" this is another\" # but we can reassign them\n",
    "print(len(s))\n",
    "print(type(s))\n",
    "a='def'\n",
    "b='pqr'\n",
    "a=a+b # string can be concatenate\n",
    "print(a)\n",
    "# print(a +2) we cant't add string and integer"
   ]
  },
  {
   "cell_type": "code",
   "execution_count": 30,
   "metadata": {},
   "outputs": [
    {
     "name": "stdout",
     "output_type": "stream",
     "text": [
      "DEFPQR\n",
      "defpqr\n",
      "asd\n",
      "True False\n"
     ]
    }
   ],
   "source": [
    "# string functions\n",
    "print(a.upper()) # convert in upper case does't change original\n",
    "print(a)\n",
    "a.lower() # to convert in lower\n",
    "b=\" asd \"\n",
    "print(b.strip()) # remove leading and trailing whitespace\n",
    "print(a.isalpha(),b.isalpha()) # because b has white space"
   ]
  },
  {
   "cell_type": "code",
   "execution_count": 36,
   "metadata": {},
   "outputs": [
    {
     "name": "stdout",
     "output_type": "stream",
     "text": [
      "54\n",
      "54\n",
      "<class 'str'>\n",
      "<class 'str'> <class 'int'>\n"
     ]
    }
   ],
   "source": [
    "# user input\n",
    "# by default its return type is str\n",
    "a=input()\n",
    "print(a)\n",
    "print(type(a))\n",
    "c=int(a)\n",
    "print(type(a),type(c))\n"
   ]
  },
  {
   "cell_type": "code",
   "execution_count": 40,
   "metadata": {},
   "outputs": [
    {
     "name": "stdout",
     "output_type": "stream",
     "text": [
      "a\n",
      "a\n",
      "ab\n",
      "ab\n",
      "abc\n"
     ]
    }
   ],
   "source": [
    "# string slicing -> getting a substring of a string\n",
    "a=\"abc\"\n",
    "print(a[0])\n",
    "print(a[-3])\n",
    "print(a[0:2])  ## srt[s:e]-> s is inclusive e is not\n",
    "print(a[-3:-1])\n",
    "print(a[0:])"
   ]
  },
  {
   "cell_type": "code",
   "execution_count": 47,
   "metadata": {},
   "outputs": [
    {
     "name": "stdout",
     "output_type": "stream",
     "text": [
      "('pe', 'acf', 45, 1.5)\n",
      "('pe', 'acf', 45, 1.5, 1, 2)\n",
      "('pe', 'acf', 45, 1.5, 'pe', 'acf', 45, 1.5)\n",
      "('pe', 'acf', 45, 1.5)\n"
     ]
    }
   ],
   "source": [
    "# tuple\n",
    "# to store different values\n",
    "# tuples are immutable but in list we can change a value\n",
    "a=('pe',\"acf\",45,1.5)\n",
    "p=(1,2)\n",
    "print(a)\n",
    "# immutable\n",
    "# a[0]='der' is invlaid\n",
    "print(a+p) # tuple can also concatnate\n",
    "print(a*2) # this is use to copy that tue that time\n",
    "print(a)"
   ]
  },
  {
   "cell_type": "code",
   "execution_count": 51,
   "metadata": {},
   "outputs": [
    {
     "name": "stdout",
     "output_type": "stream",
     "text": [
      "60\n",
      "100\n"
     ]
    }
   ],
   "source": [
    "#functions\n",
    "def sum(a,b):\n",
    "    z=a+b\n",
    "    return z\n",
    "p=sum(20,40)\n",
    "print(p)\n",
    "print(sum(20,80))"
   ]
  },
  {
   "cell_type": "code",
   "execution_count": 58,
   "metadata": {},
   "outputs": [
    {
     "name": "stdout",
     "output_type": "stream",
     "text": [
      "22\n",
      "15\n",
      "22\n",
      "15\n",
      "17\n",
      "21\n"
     ]
    }
   ],
   "source": [
    "# default argument in a function\n",
    "def sum(a,b=5):  # here b has default value if user only give a then b=5 user lese what user provide\n",
    "    return a+b\n",
    "print(sum(10,12))\n",
    "print(sum(10))\n",
    "\n",
    "##################################\n",
    "\n",
    "def sum(a=3,b=2,c=10):\n",
    "    return a+b+c\n",
    "print(sum(10)) # here b and c use their default values\n",
    "print(sum()) # here abc all uses their default values\n",
    "print(sum(2,5)) # here a and b uses their default values\n",
    "print(sum(b=8)) # here we provide value of b without providing for a\n",
    "    "
   ]
  },
  {
   "cell_type": "code",
   "execution_count": 60,
   "metadata": {},
   "outputs": [
    {
     "name": "stdout",
     "output_type": "stream",
     "text": [
      "<class 'tuple'>\n",
      "()\n",
      "<class 'tuple'>\n",
      "(5, 25, 1, 4)\n"
     ]
    },
    {
     "data": {
      "text/plain": [
       "25"
      ]
     },
     "execution_count": 60,
     "metadata": {},
     "output_type": "execute_result"
    }
   ],
   "source": [
    "## variable sized input and output\n",
    "def summation(a,b, *more):\n",
    "    print(type(more))  ## here \"more\" is a tuple to store extra input\n",
    "    print(more)\n",
    "    return 25\n",
    "summation(20,1)\n",
    "summation(20,12,5,25,1,4)"
   ]
  },
  {
   "cell_type": "code",
   "execution_count": 62,
   "metadata": {},
   "outputs": [
    {
     "name": "stdout",
     "output_type": "stream",
     "text": [
      "50\n"
     ]
    }
   ],
   "source": [
    "## variable sized input and output\n",
    "def summation(a,b,*more):\n",
    "    res=a+b\n",
    "    for i in more:\n",
    "        res+=i\n",
    "    return res\n",
    "print(summation(10,10,20,10))"
   ]
  },
  {
   "cell_type": "code",
   "execution_count": 66,
   "metadata": {},
   "outputs": [
    {
     "name": "stdout",
     "output_type": "stream",
     "text": [
      "(15, 50)\n",
      "14\n",
      "40\n"
     ]
    }
   ],
   "source": [
    "# more than one returnvalue\n",
    "def test(a,b):\n",
    "    return a+b,a*b  ## we can return as much with seperate them with comma\n",
    "                    ## and its retun a tuple\n",
    "print(test(10,5))\n",
    "sum,mul=test(10,4)\n",
    "print(sum)\n",
    "print(mul)"
   ]
  }
 ],
 "metadata": {
  "kernelspec": {
   "display_name": "Python 3",
   "language": "python",
   "name": "python3"
  },
  "language_info": {
   "codemirror_mode": {
    "name": "ipython",
    "version": 3
   },
   "file_extension": ".py",
   "mimetype": "text/x-python",
   "name": "python",
   "nbconvert_exporter": "python",
   "pygments_lexer": "ipython3",
   "version": "3.6.5"
  }
 },
 "nbformat": 4,
 "nbformat_minor": 2
}

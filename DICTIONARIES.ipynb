{
 "cells": [
  {
   "cell_type": "markdown",
   "metadata": {},
   "source": [
    "## list can never be a dictionary key it can be value"
   ]
  },
  {
   "cell_type": "code",
   "execution_count": 29,
   "metadata": {},
   "outputs": [
    {
     "name": "stdout",
     "output_type": "stream",
     "text": [
      "{23: 456, 'piv': 'mtr', (1, 5, 6): 'tuple', 8: 34}\n"
     ]
    }
   ],
   "source": [
    "# creating dictionary\n",
    "d={}  #empty dict\n",
    "\n",
    "d[23]=456  ## this has two meaning if that key present than update if that key is not present than update\n",
    "d[\"piv\"]=\"mtr\"\n",
    "d[(1,5,6)]=\"tuple\"\n",
    "d[8]=34\n",
    "print(d)"
   ]
  },
  {
   "cell_type": "code",
   "execution_count": 28,
   "metadata": {},
   "outputs": [
    {
     "name": "stdout",
     "output_type": "stream",
     "text": [
      "piv:mtr\n",
      "(1, 5, 6):tuple\n",
      "8:34\n"
     ]
    }
   ],
   "source": [
    "#how to iterate over dict\n",
    "for i in d:\n",
    "    print(i, end=\":\")\n",
    "    print(d[i])"
   ]
  },
  {
   "cell_type": "code",
   "execution_count": 30,
   "metadata": {},
   "outputs": [
    {
     "name": "stdout",
     "output_type": "stream",
     "text": [
      "{'piv': 'mtr', (1, 5, 6): 'tuple', 8: 34}\n"
     ]
    }
   ],
   "source": [
    "#delete element\n",
    "del d[23]\n",
    "print(d)\n"
   ]
  },
  {
   "cell_type": "code",
   "execution_count": 37,
   "metadata": {},
   "outputs": [
    {
     "name": "stdout",
     "output_type": "stream",
     "text": [
      "True\n",
      "3\n",
      "{}\n",
      "dict_keys(['piv', (1, 5, 6), 8])\n",
      "dict_values(['mtr', 'tuple', 34])\n"
     ]
    },
    {
     "data": {
      "text/plain": [
       "False"
      ]
     },
     "execution_count": 37,
     "metadata": {},
     "output_type": "execute_result"
    }
   ],
   "source": [
    "#common functions in dict\n",
    "\n",
    "#compare dict\n",
    "d1={4:5}\n",
    "d2={4:5}\n",
    "print(d1==d2)\n",
    "\n",
    "\n",
    "print(len(d))  #length of dictionary\n",
    "\n",
    "d1.clear() ### clear whole dictionary\n",
    "print(d1)\n",
    "\n",
    "print(d.keys())  ##it return list of keys\n",
    "print(d.values()) ## it return list of values\n",
    "\n",
    "\n",
    "23 in d  ## to check if a element exist in dict"
   ]
  }
 ],
 "metadata": {
  "kernelspec": {
   "display_name": "Python 3",
   "language": "python",
   "name": "python3"
  },
  "language_info": {
   "codemirror_mode": {
    "name": "ipython",
    "version": 3
   },
   "file_extension": ".py",
   "mimetype": "text/x-python",
   "name": "python",
   "nbconvert_exporter": "python",
   "pygments_lexer": "ipython3",
   "version": "3.6.5"
  }
 },
 "nbformat": 4,
 "nbformat_minor": 2
}
